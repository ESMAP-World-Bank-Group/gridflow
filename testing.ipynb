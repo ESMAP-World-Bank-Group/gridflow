{
 "cells": [
  {
   "cell_type": "code",
   "execution_count": 150,
   "id": "7d553d24-38f4-4a0c-b79e-1ac6ad72e1d1",
   "metadata": {},
   "outputs": [],
   "source": [
    "import geopandas as gpd\n",
    "import pandas as pd\n",
    "import rasterio\n",
    "from rasterio.features import shapes\n",
    "import rioxarray\n",
    "import matplotlib.pyplot as plt\n",
    "import numpy as np\n",
    "import warnings\n",
    "from skimage.segmentation import slic\n",
    "from shapely.geometry import shape\n",
    "from rasterstats import zonal_stats\n",
    "\n",
    "from gridflow import model\n",
    "from gridflow.visuals import country_viz\n",
    "from gridflow import utils\n",
    "from gridflow import epm_input_generator\n",
    "from gridflow import testing\n",
    "import pycountry\n",
    "\n",
    "def country_to_iso3(country_name):\n",
    "    try:\n",
    "        country = pycountry.countries.lookup(country_name)\n",
    "        return country.alpha_3\n",
    "    except LookupError:\n",
    "        return None  # Not found"
   ]
  },
  {
   "cell_type": "code",
   "execution_count": 169,
   "id": "a15e0130-f691-4a0d-9855-bea27854a492",
   "metadata": {},
   "outputs": [],
   "source": [
    "from gridflow.testing import *"
   ]
  },
  {
   "cell_type": "code",
   "execution_count": null,
   "id": "a2f6f402-0758-47a6-a99f-ec992e4dd8ea",
   "metadata": {},
   "outputs": [],
   "source": []
  },
  {
   "cell_type": "code",
   "execution_count": 167,
   "id": "d08a7ea1-9889-4f7d-83f9-dd01e002879a",
   "metadata": {},
   "outputs": [
    {
     "ename": "UnboundLocalError",
     "evalue": "cannot access local variable 'df' where it is not associated with a value",
     "output_type": "error",
     "traceback": [
      "\u001b[1;31m---------------------------------------------------------------------------\u001b[0m",
      "\u001b[1;31mUnboundLocalError\u001b[0m                         Traceback (most recent call last)",
      "Cell \u001b[1;32mIn[167], line 4\u001b[0m\n\u001b[0;32m      2\u001b[0m lux \u001b[38;5;241m=\u001b[39m model\u001b[38;5;241m.\u001b[39mregion(countries, \u001b[38;5;124m'\u001b[39m\u001b[38;5;124mdata/global_datasets\u001b[39m\u001b[38;5;124m'\u001b[39m)\n\u001b[0;32m      3\u001b[0m lux\u001b[38;5;241m.\u001b[39mcreate_zones(n\u001b[38;5;241m=\u001b[39m\u001b[38;5;241m5\u001b[39m)\n\u001b[1;32m----> 4\u001b[0m epm_input_generator\u001b[38;5;241m.\u001b[39mzone_replicate(lux, \u001b[38;5;124m\"\u001b[39m\u001b[38;5;124mdata/test/epm_inputs_raw/load/pDemandProfile.csv\u001b[39m\u001b[38;5;124m\"\u001b[39m,\u001b[38;5;124m\"\u001b[39m\u001b[38;5;124mdata/test/epm_inputs_raw/load/pDemandProfile.csv\u001b[39m\u001b[38;5;124m\"\u001b[39m)\n",
      "File \u001b[1;32m~\\OneDrive\\Documents\\GitHub\\gridflow\\gridflow\\epm_input_generator.py:167\u001b[0m, in \u001b[0;36mzone_replicate\u001b[1;34m(region, input_path, output_path, verbose)\u001b[0m\n\u001b[0;32m      0\u001b[0m <Error retrieving source code with stack_data see ipython/ipython#13598>\n",
      "\u001b[1;31mUnboundLocalError\u001b[0m: cannot access local variable 'df' where it is not associated with a value"
     ]
    }
   ],
   "source": [
    "countries = [\"LUX\"]\n",
    "lux = model.region(countries, 'data/global_datasets')\n",
    "lux.create_zones(n=5)\n",
    "epm_input_generator.zone_replicate(lux, \"data/test/epm_inputs_raw/load/pDemandProfile.csv\",\"data/test/epm_inputs_raw/load/pDemandProfile.csv\")"
   ]
  },
  {
   "cell_type": "code",
   "execution_count": null,
   "id": "87317d4c-af00-4d0b-8929-65fbd26cc39f",
   "metadata": {},
   "outputs": [],
   "source": []
  },
  {
   "cell_type": "code",
   "execution_count": 164,
   "id": "03f5aac2-336e-4a2b-b4e7-f82a1eebed3b",
   "metadata": {},
   "outputs": [
    {
     "name": "stdout",
     "output_type": "stream",
     "text": [
      "Input data\n",
      "  zone  type  number  other number\n",
      "0  TUR  peak      25           0.5\n",
      "1  TUR   avg      30           0.6\n",
      "2  TUR     ?      35           0.9\n",
      "3  SYR  peak      40           0.5\n",
      "4  SYR   avg      45           0.2\n",
      "5  SYR     ?      50           0.1\n",
      "\n",
      "Input zones\n",
      "  geometry country\n",
      "0     None     TUR\n",
      "1     None     TUR\n",
      "2     None     SYR\n",
      "3     None     SYR\n",
      "\n",
      "Output\n",
      "    zone  type  number  other number\n",
      "0   TUR0  peak      25           0.5\n",
      "1   TUR0   avg      30           0.6\n",
      "2   TUR0     ?      35           0.9\n",
      "3   TUR1  peak      25           0.5\n",
      "4   TUR1   avg      30           0.6\n",
      "5   TUR1     ?      35           0.9\n",
      "6   SYR2  peak      40           0.5\n",
      "7   SYR2   avg      45           0.2\n",
      "8   SYR2     ?      50           0.1\n",
      "9   SYR3  peak      40           0.5\n",
      "10  SYR3   avg      45           0.2\n",
      "11  SYR3     ?      50           0.1\n"
     ]
    }
   ],
   "source": [
    "import pandas as pd\n",
    "\n",
    "#edited version of old replicator\n",
    "def one_zone_replicate(df_original, zone_ids):\n",
    "    \n",
    "\n",
    "    if 'zone' in df_original.columns:\n",
    "        # Replicate data for each subregion\n",
    "        df_final = pd.concat([\n",
    "            df_original.assign(zone=zone_id) \n",
    "            for zone_id in zone_ids\n",
    "        ], ignore_index=True)\n",
    "        \n",
    "        \n",
    "    else:\n",
    "        raise ValueError(\"The input data is not zonal.\")\n",
    "    \n",
    "    return df_final\n",
    "\n",
    "\n",
    "\n",
    "#setting up fake datasets\n",
    "df_testing = pd.DataFrame({\n",
    "    \"zone\": [\"TUR\", \"TUR\", \"TUR\", \"SYR\", \"SYR\", \"SYR\"],\n",
    "    \"type\": [\"peak\", \"avg\", \"?\", \"peak\", \"avg\", \"?\"],\n",
    "    \"number\": [25, 30, 35, 40, 45, 50],\n",
    "    \"other number\": [0.5,0.6,0.9,0.5,0.2,0.1]\n",
    "\n",
    "})\n",
    "print(\"Input data\")\n",
    "print (df_testing)\n",
    "zone_df = pd.DataFrame({\n",
    "    \"geometry\" : [None, None, None, None],\n",
    "    \"country\" : [\"TUR\",\"TUR\",\"SYR\", \"SYR\"]})\n",
    "\n",
    "#Stuff starts here\n",
    "dffinal = pd.DataFrame()\n",
    "print (\"\\nInput zones\")\n",
    "print(zone_df)\n",
    "\n",
    "while not df_testing.empty:\n",
    "    chosen = df_testing.loc[0,\"zone\"]\n",
    "    newdf = (df_testing[df_testing[\"zone\"] == chosen])\n",
    "    df_testing = df_testing[df_testing[\"zone\"] != chosen]\n",
    "    df_testing = df_testing.reset_index(drop=True)\n",
    "    \n",
    "    country_zones = []\n",
    "    #print (zone_df)\n",
    "    #print (len(zone_df))\n",
    "    for i in range (len(zone_df)):\n",
    "            if chosen in zone_df.loc[i,\"country\"]:\n",
    "                country_zones.append(zone_df.loc[i,\"country\"]+str(i))\n",
    "    \n",
    "    \n",
    "    newdf = one_zone_replicate(newdf, country_zones)\n",
    "    dffinal = pd.concat([dffinal, newdf], ignore_index=True)\n",
    "print(\"\\nOutput\")\n",
    "print(dffinal)"
   ]
  },
  {
   "cell_type": "code",
   "execution_count": null,
   "id": "06d1526d-7946-49f9-bed3-aa600877960c",
   "metadata": {},
   "outputs": [],
   "source": []
  },
  {
   "cell_type": "code",
   "execution_count": null,
   "id": "f28fe9f5-6c1a-4a35-b4aa-d2a9e74fa485",
   "metadata": {},
   "outputs": [],
   "source": []
  }
 ],
 "metadata": {
  "kernelspec": {
   "display_name": "Python [conda env:base] *",
   "language": "python",
   "name": "conda-base-py"
  },
  "language_info": {
   "codemirror_mode": {
    "name": "ipython",
    "version": 3
   },
   "file_extension": ".py",
   "mimetype": "text/x-python",
   "name": "python",
   "nbconvert_exporter": "python",
   "pygments_lexer": "ipython3",
   "version": "3.13.5"
  }
 },
 "nbformat": 4,
 "nbformat_minor": 5
}
