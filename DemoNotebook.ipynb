{
 "cells": [
  {
   "cell_type": "code",
   "execution_count": 5,
   "id": "7a2de0ae",
   "metadata": {},
   "outputs": [
    {
     "name": "stdout",
     "output_type": "stream",
     "text": [
      "The autoreload extension is already loaded. To reload it, use:\n",
      "  %reload_ext autoreload\n"
     ]
    }
   ],
   "source": [
    "import geopandas as gpd\n",
    "import rasterio\n",
    "from rasterio.features import shapes\n",
    "import rioxarray\n",
    "import matplotlib.pyplot as plt\n",
    "import numpy as np\n",
    "from skimage.segmentation import slic\n",
    "from shapely.geometry import shape\n",
    "from rasterstats import zonal_stats\n",
    "\n",
    "%matplotlib inline\n",
    "\n",
    "%load_ext autoreload\n",
    "%autoreload 2\n",
    "\n",
    "from gridflow import model"
   ]
  },
  {
   "cell_type": "markdown",
   "id": "ba38c362",
   "metadata": {},
   "source": [
    "### Demo notebook\n",
    "This notebook demonstrates the capabilities of the gridflow package. "
   ]
  },
  {
   "cell_type": "code",
   "execution_count": 6,
   "id": "c08e9d42",
   "metadata": {},
   "outputs": [],
   "source": [
    "lux = model.country(\"luxembourg\", data_path=\"data/LUX\")"
   ]
  },
  {
   "cell_type": "code",
   "execution_count": 7,
   "id": "76aa0657",
   "metadata": {},
   "outputs": [
    {
     "data": {
      "text/plain": [
       "<AxesSubplot:>"
      ]
     },
     "execution_count": 7,
     "metadata": {},
     "output_type": "execute_result"
    },
    {
     "data": {
      "image/png": "[encoded data removed]",
      "text/plain": [
       "<Figure size 432x288 with 1 Axes>"
      ]
     },
     "metadata": {
      "needs_background": "light"
     },
     "output_type": "display_data"
    }
   ],
   "source": [
    "r = lux.create_regions(n=5)\n",
    "r.plot(edgecolor='black', facecolor='lightblue')"
   ]
  },
  {
   "cell_type": "code",
   "execution_count": 4,
   "id": "6b8fae40",
   "metadata": {},
   "outputs": [
    {
     "data": {
      "text/html": [
       "<div>\n",
       "<style scoped>\n",
       "    .dataframe tbody tr th:only-of-type {\n",
       "        vertical-align: middle;\n",
       "    }\n",
       "\n",
       "    .dataframe tbody tr th {\n",
       "        vertical-align: top;\n",
       "    }\n",
       "\n",
       "    .dataframe thead th {\n",
       "        text-align: right;\n",
       "    }\n",
       "</style>\n",
       "<table border=\"1\" class=\"dataframe\">\n",
       "  <thead>\n",
       "    <tr style=\"text-align: right;\">\n",
       "      <th></th>\n",
       "      <th>geometry</th>\n",
       "      <th>label</th>\n",
       "      <th>pv</th>\n",
       "      <th>wind</th>\n",
       "      <th>population</th>\n",
       "    </tr>\n",
       "  </thead>\n",
       "  <tbody>\n",
       "    <tr>\n",
       "      <th>0</th>\n",
       "      <td>POLYGON ((5.96667 50.27500, 6.07500 50.27500, ...</td>\n",
       "      <td>1.0</td>\n",
       "      <td>2.876069</td>\n",
       "      <td>228.166245</td>\n",
       "      <td>87183.585938</td>\n",
       "    </tr>\n",
       "    <tr>\n",
       "      <th>1</th>\n",
       "      <td>POLYGON ((6.23333 50.05000, 6.24167 50.05000, ...</td>\n",
       "      <td>3.0</td>\n",
       "      <td>2.938281</td>\n",
       "      <td>211.507736</td>\n",
       "      <td>282993.625000</td>\n",
       "    </tr>\n",
       "    <tr>\n",
       "      <th>2</th>\n",
       "      <td>POLYGON ((5.98333 50.17500, 6.03333 50.17500, ...</td>\n",
       "      <td>2.0</td>\n",
       "      <td>2.930460</td>\n",
       "      <td>253.339478</td>\n",
       "      <td>81454.406250</td>\n",
       "    </tr>\n",
       "    <tr>\n",
       "      <th>3</th>\n",
       "      <td>POLYGON ((5.67500 49.56667, 5.67500 49.54167, ...</td>\n",
       "      <td>6.0</td>\n",
       "      <td>2.970500</td>\n",
       "      <td>NaN</td>\n",
       "      <td>NaN</td>\n",
       "    </tr>\n",
       "    <tr>\n",
       "      <th>4</th>\n",
       "      <td>POLYGON ((5.81667 49.69167, 5.85833 49.69167, ...</td>\n",
       "      <td>5.0</td>\n",
       "      <td>3.004263</td>\n",
       "      <td>233.677994</td>\n",
       "      <td>432799.125000</td>\n",
       "    </tr>\n",
       "    <tr>\n",
       "      <th>5</th>\n",
       "      <td>POLYGON ((6.23333 49.80833, 6.27500 49.80833, ...</td>\n",
       "      <td>4.0</td>\n",
       "      <td>2.998419</td>\n",
       "      <td>212.959137</td>\n",
       "      <td>148164.578125</td>\n",
       "    </tr>\n",
       "  </tbody>\n",
       "</table>\n",
       "</div>"
      ],
      "text/plain": [
       "                                            geometry  label        pv  \\\n",
       "0  POLYGON ((5.96667 50.27500, 6.07500 50.27500, ...    1.0  2.876069   \n",
       "1  POLYGON ((6.23333 50.05000, 6.24167 50.05000, ...    3.0  2.938281   \n",
       "2  POLYGON ((5.98333 50.17500, 6.03333 50.17500, ...    2.0  2.930460   \n",
       "3  POLYGON ((5.67500 49.56667, 5.67500 49.54167, ...    6.0  2.970500   \n",
       "4  POLYGON ((5.81667 49.69167, 5.85833 49.69167, ...    5.0  3.004263   \n",
       "5  POLYGON ((6.23333 49.80833, 6.27500 49.80833, ...    4.0  2.998419   \n",
       "\n",
       "         wind     population  \n",
       "0  228.166245   87183.585938  \n",
       "1  211.507736  282993.625000  \n",
       "2  253.339478   81454.406250  \n",
       "3         NaN            NaN  \n",
       "4  233.677994  432799.125000  \n",
       "5  212.959137  148164.578125  "
      ]
     },
     "execution_count": 4,
     "metadata": {},
     "output_type": "execute_result"
    }
   ],
   "source": [
    "r"
   ]
  }
 ],
 "metadata": {
  "kernelspec": {
   "display_name": "Python 3",
   "language": "python",
   "name": "python3"
  },
  "language_info": {
   "codemirror_mode": {
    "name": "ipython",
    "version": 3
   },
   "file_extension": ".py",
   "mimetype": "text/x-python",
   "name": "python",
   "nbconvert_exporter": "python",
   "pygments_lexer": "ipython3",
   "version": "3.7.6"
  }
 },
 "nbformat": 4,
 "nbformat_minor": 5
}
